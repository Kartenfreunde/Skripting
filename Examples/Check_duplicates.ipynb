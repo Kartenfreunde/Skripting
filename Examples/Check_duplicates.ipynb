{
 "cells": [
  {
   "cell_type": "code",
   "execution_count": 1,
   "id": "informational-plastic",
   "metadata": {},
   "outputs": [],
   "source": [
    "#this simple script takes two files, combine them and drops the duplicates based on the geo data latitude and longitude\n",
    "import pandas as pd"
   ]
  },
  {
   "cell_type": "code",
   "execution_count": 3,
   "id": "becoming-gossip",
   "metadata": {},
   "outputs": [],
   "source": [
    "example_old = pd.read_csv('example.old', sep='\\t')\n",
    "example_new = pd.read_csv('example.new', sep='\\t')\n",
    "example_all = pd.concat([example_old, example_new])\n",
    "final = example_all.drop_duplicates(subset=['Lat', 'Long'])\n",
    "final.to_csv('example_no_dup.csv', sep='\\t')"
   ]
  },
  {
   "cell_type": "code",
   "execution_count": 4,
   "id": "revolutionary-ethernet",
   "metadata": {},
   "outputs": [
    {
     "name": "stdout",
     "output_type": "stream",
     "text": [
      "                                                Name        Lat       Long\n",
      "0   Archenhold-Sternwarte Alt-Treptow 1 12435 Berlin  52.485869  13.476354\n",
      "1  Planetarium am Insulaner Munsterdamm 90 (am In...  52.457586  13.349403\n",
      "2  Zeiss-Großplanetarium Prenzlauer Allee 80 1040...  52.542995  13.428030\n",
      "3  Stiftung Planetarium Berlin Prenzlauer Allee 8...  52.543026  13.427785\n",
      "4  Planetarium Bahnhofstraße 63 15827 Blankenfeld...  52.325270  13.425770\n",
      "5  Raumflugplanetarium &quot;Juri Gagarin&quot; L...  51.754670  14.344290\n",
      "6  Planetarium Frankfurt (Oder) Mühlenweg 48 1523...  52.325817  14.549252\n",
      "7  Planetarium &quot;Alexej Leonow&quot; Lugstraß...  51.691827  13.228026\n",
      "2  Schulsternwarte &quot;Johannes Franz&quot; Czo...  51.162287  14.456925\n",
      "3  Schulplanetarium Chemnitz Albert-Köhler-Straße...  50.793020  12.889031\n",
      "4  Volkssternwarte und Zeiss-Planetarium Drebach ...  50.673786  13.012821\n",
      "5           Planetarium Gamigstraße 24 01239 Dresden  51.007252  13.793371\n",
      "6  Planetarium und Lohrmann-Observatorium George-...  51.029877  13.729033\n",
      "7  Sternwarte und Planetarium Eilenburg Mansberg ...  51.450260  12.626340\n",
      "8  Planetarium der Scultetus-Sternwarte An der St...  51.134494  14.949461\n",
      "9  Planetarium Hoyerswerda Collins-Straße 29 0297...  51.431178  14.271420\n"
     ]
    }
   ],
   "source": [
    "print(final)"
   ]
  },
  {
   "cell_type": "code",
   "execution_count": null,
   "id": "difficult-hughes",
   "metadata": {},
   "outputs": [],
   "source": []
  }
 ],
 "metadata": {
  "kernelspec": {
   "display_name": "Python 3",
   "language": "python",
   "name": "python3"
  },
  "language_info": {
   "codemirror_mode": {
    "name": "ipython",
    "version": 3
   },
   "file_extension": ".py",
   "mimetype": "text/x-python",
   "name": "python",
   "nbconvert_exporter": "python",
   "pygments_lexer": "ipython3",
   "version": "3.7.10"
  }
 },
 "nbformat": 4,
 "nbformat_minor": 5
}
