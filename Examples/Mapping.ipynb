{
 "cells": [
  {
   "cell_type": "code",
   "execution_count": 2,
   "metadata": {},
   "outputs": [],
   "source": [
    "#This example script will read in a csv example file\n",
    "#Use the Google API to translate the street adress to Lat/Long data\n",
    "#Maps everything onto a world map with folium\n",
    "\n",
    "import pandas as pd\n",
    "import geopy\n",
    "import requests\n",
    "from geopy.geocoders import GoogleV3\n",
    "import folium\n",
    "import json\n",
    "#first we need pandas (data library), geopy and the Google lib for changing adress and folium and json for mapping"
   ]
  },
  {
   "cell_type": "code",
   "execution_count": 3,
   "metadata": {},
   "outputs": [
    {
     "name": "stdout",
     "output_type": "stream",
     "text": [
      "['Archenhold-Sternwarte', 'Alt-Treptow 1', '12435 Berlin']\n",
      "Planetarium am Insulaner Munsterdamm 90 (am Insulaner) 12169 Berlin-Schöneberg\n"
     ]
    }
   ],
   "source": [
    "addresses = []\n",
    "for lines in open('Example_Ost.csv', 'r').readlines():\n",
    "    line = lines.split('\\t')\n",
    "    line[-1] = line[-1][:-1]\n",
    "    addresses.append(line)\n",
    "print(addresses[1])\n",
    "example = ' '.join(addresses[2])\n",
    "print(example)\n",
    "#opens file, reads all the adresses in and gives an example"
   ]
  },
  {
   "cell_type": "code",
   "execution_count": 4,
   "metadata": {
    "scrolled": true
   },
   "outputs": [
    {
     "name": "stdout",
     "output_type": "stream",
     "text": [
      "Archenhold-Sternwarte Alt-Treptow 1 12435 Berlin\n",
      "Archenhold-Sternwarte Alt-Treptow 1 12435 Berlin\t52.4858695\t13.4763537\n",
      "Planetarium am Insulaner Munsterdamm 90 (am Insulaner) 12169 Berlin-Schöneberg\n",
      "Planetarium am Insulaner Munsterdamm 90 (am Insulaner) 12169 Berlin-Schöneberg\t52.45758600000001\t13.349403\n",
      "Zeiss-Großplanetarium Prenzlauer Allee 80 10405 Berlin\n",
      "Zeiss-Großplanetarium Prenzlauer Allee 80 10405 Berlin\t52.54299529999999\t13.4280298\n",
      "Stiftung Planetarium Berlin Prenzlauer Allee 80 10405 Berlin\n",
      "Stiftung Planetarium Berlin Prenzlauer Allee 80 10405 Berlin\t52.5430264\t13.4277852\n",
      "Planetarium Bahnhofstraße 63 15827 Blankenfelde-Mahlow\n",
      "Planetarium Bahnhofstraße 63 15827 Blankenfelde-Mahlow\t52.3252701\t13.4257701\n",
      "Raumflugplanetarium &quot;Juri Gagarin&quot; Lindenplatz 21 03042 Cottbus\n",
      "Raumflugplanetarium &quot;Juri Gagarin&quot; Lindenplatz 21 03042 Cottbus\t51.75467\t14.34429\n",
      "Planetarium Frankfurt (Oder) Mühlenweg 48 15232 Frankfurt an der Oder\n",
      "Planetarium Frankfurt (Oder) Mühlenweg 48 15232 Frankfurt an der Oder\t52.32581709999999\t14.5492515\n",
      "Planetarium &quot;Alexej Leonow&quot; Lugstraße 3 04916 Herzberg/Elster\n",
      "Planetarium &quot;Alexej Leonow&quot; Lugstraße 3 04916 Herzberg/Elster\t51.6918268\t13.2280259\n",
      "Planetarium des Schillerstraße 42/50 14931 Jüterbog\n",
      "Planetarium des Schillerstraße 42/50 14931 Jüterbog\t51.99276\t13.0764099\n",
      "Urania-Planetarium und Gutenbergstraße 71/72 14467 Potsdam\n",
      "Urania-Planetarium und Gutenbergstraße 71/72 14467 Potsdam\t52.4023385\t13.0618575\n",
      "Planetarium August-Bebel-Straße 49 15344 Strausberg\n",
      "Planetarium August-Bebel-Straße 49 15344 Strausberg\t52.57472\t13.8786671\n",
      "Schulsternwarte &quot;Johannes Franz&quot; Czornebohstraße 82 02625 Bautzen\n",
      "Schulsternwarte &quot;Johannes Franz&quot; Czornebohstraße 82 02625 Bautzen\t51.1622867\t14.4569254\n",
      "Schulplanetarium Chemnitz Albert-Köhler-Straße 48 09122 Chemnitz\n",
      "Schulplanetarium Chemnitz Albert-Köhler-Straße 48 09122 Chemnitz\t50.79302\t12.889031\n",
      "Volkssternwarte und Zeiss-Planetarium Drebach Milchstraße 1 09430 Drebach\n",
      "Volkssternwarte und Zeiss-Planetarium Drebach Milchstraße 1 09430 Drebach\t50.673786\t13.012821\n",
      "Planetarium Gamigstraße 24 01239 Dresden\n",
      "Planetarium Gamigstraße 24 01239 Dresden\t51.0072522\t13.7933707\n",
      "Planetarium und Lohrmann-Observatorium George-Bähr-Straße 1, Beyer-Bau 01062 Dresden\n",
      "Planetarium und Lohrmann-Observatorium George-Bähr-Straße 1, Beyer-Bau 01062 Dresden\t51.0298771\t13.7290326\n",
      "Sternwarte und Planetarium Eilenburg Mansberg 18 04838 Eilenburg\n",
      "Sternwarte und Planetarium Eilenburg Mansberg 18 04838 Eilenburg\t51.4502596\t12.6263401\n",
      "Planetarium der Scultetus-Sternwarte An der Sternwarte 1 02827 Görlitz\n",
      "Planetarium der Scultetus-Sternwarte An der Sternwarte 1 02827 Görlitz\t51.134494\t14.949461\n",
      "Planetarium Hoyerswerda Collins-Straße 29 02977 Hoyerswerda\n",
      "Planetarium Hoyerswerda Collins-Straße 29 02977 Hoyerswerda\t51.4311783\t14.2714196\n",
      "Planetarium im Schulmuseum Leipzig Goerdelerring 20 04109 Leipzig\n",
      "Planetarium im Schulmuseum Leipzig Goerdelerring 20 04109 Leipzig\t51.34223\t12.37025\n",
      "Planetarium Lichtenstein, Minikosmos GbR Chemnitzer Str. 43 09350 Lichtenstein\n",
      "Planetarium Lichtenstein, Minikosmos GbR Chemnitzer Str. 43 09350 Lichtenstein\t50.76062719999999\t12.6418746\n",
      "Schulplanetarium der Evangelischen Grundschule Rottwerndorfer Straße 49 01796 Pirna\n",
      "Schulplanetarium der Evangelischen Grundschule Rottwerndorfer Straße 49 01796 Pirna\t50.9388831\t13.9450762\n",
      "Volkssternwarte &amp; Planetarium &quot;Adolph Diesterweg&quot; Auf den Ebenbergen 10a 01445 Radebeul\n",
      "Volkssternwarte &amp; Planetarium &quot;Adolph Diesterweg&quot; Auf den Ebenbergen 10a 01445 Radebeul\t51.116024\t13.622403\n",
      "Schulsternwarte und Planetariumn &quot;Sigmund Jähn&quot; Rützengrüner Straße 41a 08228 Rodewisch\n",
      "Schulsternwarte und Planetariumn &quot;Sigmund Jähn&quot; Rützengrüner Straße 41a 08228 Rodewisch\t50.5267268\t12.4149713\n",
      "Planetarium Bergbreite 1 04435 Schkeuditz\n",
      "Planetarium Bergbreite 1 04435 Schkeuditz\t51.39554\t12.2255799\n",
      "Sternwarte und Planetarium Schneeberg Heinrich-Heine-Straße 13a 08289 Schneeberg\n",
      "Sternwarte und Planetarium Schneeberg Heinrich-Heine-Straße 13a 08289 Schneeberg\t50.5986014\t12.646535\n",
      "Planetarium und Schulsternwarte Zwickau Kreuzbergweg 08064 Zwickau\n",
      "Planetarium und Schulsternwarte Zwickau Kreuzbergweg 08064 Zwickau\t50.6800236\t12.4653141\n",
      "Planetarium Auf der Alten Burg 40 06449 Aschersleben\n",
      "Planetarium Auf der Alten Burg 40 06449 Aschersleben\t51.75201000000001\t11.44163\n",
      "Planetarium Burg Kirchhofstraße 3 39288 Burg\n",
      "Planetarium Burg Kirchhofstraße 3 39288 Burg\t52.2739606\t11.8477756\n",
      "Planetarium, Astronomische Station Peterholzstraße 58 06849 Dessau-Rosslau\n",
      "Planetarium, Astronomische Station Peterholzstraße 58 06849 Dessau-Rosslau\t51.8030325\t12.2477057\n",
      "Planetarium Halberstadt Wilhelm-Trautewein-Straße 19 38820 Halberstadt\n",
      "Planetarium Halberstadt Wilhelm-Trautewein-Straße 19 38820 Halberstadt\t51.89338\t11.06822\n",
      "Planetarium der Astronomischen Station Schkeuditzer Straße 4b 06116 Halle (Saale)\n",
      "Planetarium der Astronomischen Station Schkeuditzer Straße 4b 06116 Halle (Saale)\t51.4572638\t12.0383083\n",
      "Planetarium, Bildungszentrum Lindenfeld Falkstraße 83 06886 Lutherstadt Wittenberg\n",
      "Planetarium, Bildungszentrum Lindenfeld Falkstraße 83 06886 Lutherstadt Wittenberg\t51.87101\t12.65068\n",
      "Schulsternwarte und Planetarium Pablo-Picasso-Straße 20 39128 Magdeburg\n",
      "Schulsternwarte und Planetarium Pablo-Picasso-Straße 20 39128 Magdeburg\t52.1713094\t11.6188118\n",
      "Planetarium Merseburg Teichstraße 2 (Am Gotthardteich) 06217 Merseburg\n",
      "Planetarium Merseburg Teichstraße 2 (Am Gotthardteich) 06217 Merseburg\t51.3530579\t11.9906287\n",
      "Arche Nebra – Die Himmelsscheibe erleben An der Steinklöbe 16 06642 Wangen\n",
      "Arche Nebra – Die Himmelsscheibe erleben An der Steinklöbe 16 06642 Wangen\t51.2714517\t11.5314589\n",
      "Harzplanetarium Wernigerode Walter-Rathenau-Straße 9 38855 Wernigerode\n",
      "Harzplanetarium Wernigerode Walter-Rathenau-Straße 9 38855 Wernigerode\t51.8341348\t10.7930812\n",
      "Planetarium Karl-Liebknecht-Straße 23 (Postadresse) 36433 Bad Salzungen\n",
      "Planetarium Karl-Liebknecht-Straße 23 (Postadresse) 36433 Bad Salzungen\t50.81256519999999\t10.226841\n",
      "Planetarium &amp; Kuppelkino Gera Leipziger Straße 24 (Hofeinfahrt) 07545 Gera\n",
      "Planetarium &amp; Kuppelkino Gera Leipziger Straße 24 (Hofeinfahrt) 07545 Gera\t50.88034750000001\t12.0845316\n",
      "Planetarium Reinhardsbrunner Str. 19 99867 Gotha\n",
      "Planetarium Reinhardsbrunner Str. 19 99867 Gotha\t50.94096099999999\t10.6957527\n",
      "Zeiss-Planetarium Jena Am Planetarium 5 07743 Jena\n",
      "Zeiss-Planetarium Jena Am Planetarium 5 07743 Jena\t50.9318109\t11.5871857\n",
      "Planetarium Nordhausen Wiedigsburg 7/8 99734 Nordhausen\n",
      "Planetarium Nordhausen Wiedigsburg 7/8 99734 Nordhausen\t51.5059863\t10.7868201\n",
      "Planetarium Auf dem Hoheloh 1 98527 Suhl\n",
      "Planetarium Auf dem Hoheloh 1 98527 Suhl\t50.6019211\t10.7002384\n",
      "Universe Dimensions Schopperstraße 40 07937 Zeulenroda-Triebes\n",
      "Universe Dimensions Schopperstraße 40 07937 Zeulenroda-Triebes\t50.65519070000001\t11.9921176\n",
      "if error or not possibl: https://www.gps-coordinates.net/gps-coordinates-converter\n"
     ]
    }
   ],
   "source": [
    "fil = open('Example_Ost_adress.csv', 'w')\n",
    "print('Name\\tLat\\Long', file=fil)\n",
    "API = ''\n",
    "#a Google Maps API is needed\n",
    "for line in range(1, len(addresses)):\n",
    "    address = ' '.join(addresses[line])\n",
    "    print(address)\n",
    "    try:\n",
    "        \n",
    "        \n",
    "        params = {\n",
    "            'key': API,\n",
    "            'address' : address\n",
    "        }\n",
    "        base_url = 'https://maps.googleapis.com/maps/api/geocode/json?'\n",
    "        response = requests.get(base_url, params=params).json()\n",
    "        response.keys()\n",
    "        geo = response['results'][0]['geometry']\n",
    "        lat = geo['location']['lat']\n",
    "        lng = geo['location']['lng']\n",
    "        print(address, lat, lng, sep='\\t')\n",
    "        print(address, lat, lng, sep='\\t',file=fil)\n",
    "    except:\n",
    "        print(address,'\\t\\t', sep='\\t', file=fil)\n",
    "print('if error or not possibl: https://www.gps-coordinates.net/gps-coordinates-converter')\n",
    "fil.close()\n",
    "#for all elements in the list it tries to get the lat and long with the google API, saves in a new file      "
   ]
  },
  {
   "cell_type": "code",
   "execution_count": 8,
   "metadata": {},
   "outputs": [],
   "source": [
    "df = pd.read_csv('Example_Ost_adress.csv', sep='\\t')\n",
    "with open('world.geo.json') as f:\n",
    "    world = json.load(f)\n",
    "\n",
    "world = folium.Map(location=[51.340199,12.360103], tiles='Stamen Toner', zoom_start=7)\n",
    "for i,row in df.iterrows():\n",
    "    folium.CircleMarker((row.Lat,row.Long), radius=5, weight=5, color='red', fill_color='red', fill_opacity=.5).add_to(world)\n",
    "world.save('world.html')\n",
    "#here happens the magic, all locations are read with pandas and inserted in a world map\n",
    "#saved as html script"
   ]
  },
  {
   "cell_type": "code",
   "execution_count": null,
   "metadata": {},
   "outputs": [],
   "source": []
  }
 ],
 "metadata": {
  "kernelspec": {
   "display_name": "Python 3",
   "language": "python",
   "name": "python3"
  },
  "language_info": {
   "codemirror_mode": {
    "name": "ipython",
    "version": 3
   },
   "file_extension": ".py",
   "mimetype": "text/x-python",
   "name": "python",
   "nbconvert_exporter": "python",
   "pygments_lexer": "ipython3",
   "version": "3.7.10"
  }
 },
 "nbformat": 4,
 "nbformat_minor": 4
}
